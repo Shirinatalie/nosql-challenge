{
 "cells": [
  {
   "cell_type": "markdown",
   "id": "9a57c4c6",
   "metadata": {},
   "source": [
    "# Eat Safe, Love"
   ]
  },
  {
   "cell_type": "markdown",
   "id": "064ef857",
   "metadata": {},
   "source": [
    "## Part 1: Database and Jupyter Notebook Set Up"
   ]
  },
  {
   "cell_type": "markdown",
   "id": "664e3c1f",
   "metadata": {},
   "source": [
    "Import the data provided in the `establishments.json` file from your Terminal. Name the database `uk_food` and the collection `establishments`.\n",
    "\n",
    "Within this markdown cell, copy the line of text you used to import the data from your Terminal. This way, future analysts will be able to repeat your process.\n",
    "\n",
    "e.g.: Import the dataset with `YOUR IMPORT TEXT HERE`"
   ]
  },
  {
   "cell_type": "code",
   "execution_count": 1,
   "id": "3ecdd008",
   "metadata": {},
   "outputs": [],
   "source": [
    "# Import dependencies\n",
    "from pymongo import MongoClient\n",
    "from pprint import pprint"
   ]
  },
  {
   "cell_type": "code",
   "execution_count": 2,
   "id": "59390c4a",
   "metadata": {},
   "outputs": [],
   "source": [
    "# Create an instance of MongoClient\n",
    "mongo = MongoClient(port=27017)"
   ]
  },
  {
   "cell_type": "code",
   "execution_count": 3,
   "id": "7f9ececa",
   "metadata": {},
   "outputs": [
    {
     "name": "stdout",
     "output_type": "stream",
     "text": [
      "['admin', 'artifacts_one', 'classdb', 'config', 'epa', 'gardernDB', 'local', 'petsitly_marketing', 'state', 'travel_db', 'uk_food']\n"
     ]
    }
   ],
   "source": [
    "# confirm that our new database was created\n",
    "print(mongo.list_database_names())"
   ]
  },
  {
   "cell_type": "code",
   "execution_count": 4,
   "id": "71e373c1",
   "metadata": {},
   "outputs": [],
   "source": [
    "# assign the uk_food database to a variable name\n",
    "db = mongo['uk_food']"
   ]
  },
  {
   "cell_type": "code",
   "execution_count": 5,
   "id": "ef1b89ed",
   "metadata": {},
   "outputs": [
    {
     "name": "stdout",
     "output_type": "stream",
     "text": [
      "['establishments']\n"
     ]
    }
   ],
   "source": [
    "# review the collections in our new database\n",
    "print(db.list_collection_names())"
   ]
  },
  {
   "cell_type": "code",
   "execution_count": 6,
   "id": "6a0d92df",
   "metadata": {},
   "outputs": [
    {
     "name": "stdout",
     "output_type": "stream",
     "text": [
      "{'_id': ObjectId('65397fcdf802514ab9ac3a71'), 'FHRSID': 1043695, 'ChangesByServerID': 0, 'LocalAuthorityBusinessID': 'PI/000073616', 'BusinessName': 'The Pavilion', 'BusinessType': 'Restaurant/Cafe/Canteen', 'BusinessTypeID': 1, 'AddressLine1': 'East Cliff Pavilion', 'AddressLine2': 'Wear Bay Road', 'AddressLine3': 'Folkestone', 'AddressLine4': 'Kent', 'PostCode': 'CT19 6BL', 'Phone': '', 'RatingValue': '5', 'RatingKey': 'fhrs_5_en-gb', 'RatingDate': '2018-04-04T00:00:00', 'LocalAuthorityCode': '188', 'LocalAuthorityName': 'Folkestone and Hythe', 'LocalAuthorityWebSite': 'http://www.folkestone-hythe.gov.uk', 'LocalAuthorityEmailAddress': 'foodteam@folkestone-hythe.gov.uk', 'scores': {'Hygiene': 5, 'Structural': 5, 'ConfidenceInManagement': 5}, 'SchemeType': 'FHRS', 'geocode': {'longitude': {'$toDouble': {'$ifNull': ['$geocode.longitude', 0]}}, 'latitude': {'$toDouble': {'$ifNull': ['$geocode.latitude', 0]}}}, 'RightToReply': '', 'Distance': 4591.765489457773, 'NewRatingPending': False, 'meta': {'dataSource': None, 'extractDate': '0001-01-01T00:00:00', 'itemCount': 0, 'returncode': None, 'totalCount': 0, 'totalPages': 0, 'pageSize': 0, 'pageNumber': 0}, 'links': [{'rel': 'self', 'href': 'https://api.ratings.food.gov.uk/establishments/1043695'}]}\n"
     ]
    }
   ],
   "source": [
    "# review a document in the establishments collection\n",
    "print(db.establishments.find_one())"
   ]
  },
  {
   "cell_type": "code",
   "execution_count": 7,
   "id": "11c9f11b",
   "metadata": {},
   "outputs": [],
   "source": [
    "# assign the collection to a variable\n",
    "establishments = db['establishments']"
   ]
  },
  {
   "cell_type": "markdown",
   "id": "d5671434",
   "metadata": {},
   "source": [
    "## Part 2: Update the Database"
   ]
  },
  {
   "cell_type": "markdown",
   "id": "314bd884",
   "metadata": {},
   "source": [
    "1. An exciting new halal restaurant just opened in Greenwich, but hasn't been rated yet. The magazine has asked you to include it in your analysis. Add the following restaurant \"Penang Flavours\" to the database."
   ]
  },
  {
   "cell_type": "code",
   "execution_count": 8,
   "id": "c2da7648",
   "metadata": {},
   "outputs": [],
   "source": [
    "# Create a dictionary for the new restaurant data\n",
    "new_restaurant = {\n",
    "    'BusinessName': 'New Restaurant Name',\n",
    "    'BusinessType': 'Restaurant',\n",
    "    'AddressLine1': '123 Main Street',\n",
    "    'AddressLine2': 'Suite 456',\n",
    "    'AddressLine3': 'City',\n",
    "    'AddressLine4': 'State',\n",
    "    'PostCode': '12345',\n",
    "    'Phone': '123-456-7890',\n",
    "    'RatingValue': 5,  # Replace with the desired rating value\n",
    "    'RatingKey': 'fhrs_5_en-gb',  # Replace with the appropriate rating key\n",
    "    'RatingDate': '2023-10-26T00:00:00',  # Replace with the date\n",
    "    'LocalAuthorityCode': 'ABC',  # Replace with the local authority code\n",
    "    'LocalAuthorityName': 'Local Authority Name',  # Replace with the actual authority name\n",
    "    'LocalAuthorityWebSite': 'https://www.localauthoritywebsite.com',\n",
    "    'LocalAuthorityEmailAddress': 'contact@localauthority.com',\n",
    "    'scores': {\n",
    "        'Hygiene': 5,  # Replace with hygiene score\n",
    "        'Structural': 5,  # Replace with structural score\n",
    "        'ConfidenceInManagement': 5  # Replace with management confidence score\n",
    "    },\n",
    "    'SchemeType': 'FHRS',  # Replace with the appropriate scheme type\n",
    "    'geocode': {\n",
    "        'latitude': '123.456',  # Replace with latitude\n",
    "        'longitude': '987.654'  # Replace with longitude\n",
    "    },\n",
    "    'RightToReply': 'Reply information',  # Replace with the right to reply data\n",
    "    'Distance': 0.0,  # Replace with the distance value\n",
    "    'NewRatingPending': False,  # Replace with True or False\n",
    "}\n",
    "\n"
   ]
  },
  {
   "cell_type": "code",
   "execution_count": 9,
   "id": "a6e5cece",
   "metadata": {},
   "outputs": [
    {
     "data": {
      "text/plain": [
       "<pymongo.results.InsertOneResult at 0x1ed04774980>"
      ]
     },
     "execution_count": 9,
     "metadata": {},
     "output_type": "execute_result"
    }
   ],
   "source": [
    "# Insert the new restaurant into the collection\n",
    "establishments.insert_one(new_restaurant)"
   ]
  },
  {
   "cell_type": "code",
   "execution_count": 10,
   "id": "63bb10f9",
   "metadata": {},
   "outputs": [
    {
     "name": "stdout",
     "output_type": "stream",
     "text": [
      "New restaurant found:\n",
      "{'AddressLine1': '123 Main Street',\n",
      " 'AddressLine2': 'Suite 456',\n",
      " 'AddressLine3': 'City',\n",
      " 'AddressLine4': 'State',\n",
      " 'BusinessName': 'New Restaurant Name',\n",
      " 'BusinessType': 'Restaurant',\n",
      " 'Distance': 0.0,\n",
      " 'LocalAuthorityCode': 'ABC',\n",
      " 'LocalAuthorityEmailAddress': 'contact@localauthority.com',\n",
      " 'LocalAuthorityName': 'Local Authority Name',\n",
      " 'LocalAuthorityWebSite': 'https://www.localauthoritywebsite.com',\n",
      " 'NewRatingPending': False,\n",
      " 'Phone': '123-456-7890',\n",
      " 'PostCode': '12345',\n",
      " 'RatingDate': '2023-10-26T00:00:00',\n",
      " 'RatingKey': 'fhrs_5_en-gb',\n",
      " 'RatingValue': 5,\n",
      " 'RightToReply': 'Reply information',\n",
      " 'SchemeType': 'FHRS',\n",
      " '_id': ObjectId('6542e16e10d1ba9b38fc482d'),\n",
      " 'geocode': {'latitude': {'$toDouble': {'$ifNull': ['$geocode.latitude', 0]}},\n",
      "             'longitude': {'$toDouble': {'$ifNull': ['$geocode.longitude',\n",
      "                                                     0]}}},\n",
      " 'scores': {'ConfidenceInManagement': 5, 'Hygiene': 5, 'Structural': 5}}\n"
     ]
    }
   ],
   "source": [
    "# Check that the new restaurant was inserted\n",
    "query = {'BusinessName': 'New Restaurant Name'} \n",
    "\n",
    "# Find the document in the collection\n",
    "result = establishments.find_one(query)\n",
    "\n",
    "# Check if a document was found\n",
    "if result:\n",
    "    print(\"New restaurant found:\")\n",
    "    pprint(result)\n",
    "else:\n",
    "    print(\"New restaurant not found in the collection.\")"
   ]
  },
  {
   "cell_type": "markdown",
   "id": "0ef4395a",
   "metadata": {},
   "source": [
    "2. Find the BusinessTypeID for \"Restaurant/Cafe/Canteen\" and return only the `BusinessTypeID` and `BusinessType` fields."
   ]
  },
  {
   "cell_type": "code",
   "execution_count": 11,
   "id": "93c63829",
   "metadata": {},
   "outputs": [
    {
     "name": "stdout",
     "output_type": "stream",
     "text": [
      "BusinessTypeID and BusinessType for Restaurant/Cafe/Canteen:\n",
      "{'BusinessType': 'Restaurant/Cafe/Canteen',\n",
      " 'BusinessTypeID': 1,\n",
      " '_id': ObjectId('65397fcdf802514ab9ac3a71')}\n"
     ]
    }
   ],
   "source": [
    "# Find the BusinessTypeID for \"Restaurant/Cafe/Canteen\" and return only the BusinessTypeID and BusinessType fields\n",
    "\n",
    "query = {'BusinessType': 'Restaurant/Cafe/Canteen'}\n",
    "\n",
    "# Projection to return only the BusinessTypeID and BusinessType fields\n",
    "projection = {'BusinessTypeID': 1, 'BusinessType': 1}\n",
    "\n",
    "# Find and project the document\n",
    "result = establishments.find_one(query, projection)\n",
    "\n",
    "# Check if a document was found\n",
    "if result:\n",
    "    print(\"BusinessTypeID and BusinessType for Restaurant/Cafe/Canteen:\")\n",
    "    pprint(result)\n",
    "else:\n",
    "    print(\"Restaurant/Cafe/Canteen not found in the collection.\")\n"
   ]
  },
  {
   "cell_type": "markdown",
   "id": "4e570caf",
   "metadata": {},
   "source": [
    "3. Update the new restaurant with the `BusinessTypeID` you found."
   ]
  },
  {
   "cell_type": "code",
   "execution_count": 12,
   "id": "7f599f3d",
   "metadata": {},
   "outputs": [
    {
     "name": "stdout",
     "output_type": "stream",
     "text": [
      "New restaurant data updated with BusinessTypeID and inserted successfully.\n"
     ]
    }
   ],
   "source": [
    "# Define the new restaurant data\n",
    "new_restaurant_data = {\n",
    "    'BusinessName': 'New Restaurant',\n",
    "    'BusinessType': 'Restaurant/Cafe/Canteen',\n",
    "    # Add other fields as needed\n",
    "}\n",
    "\n",
    "# Query to find the BusinessTypeID for \"Restaurant/Cafe/Canteen\"\n",
    "query = {'BusinessType': 'Restaurant/Cafe/Canteen'}\n",
    "\n",
    "# Projection to return only the BusinessTypeID field\n",
    "projection = {'BusinessTypeID': 1}\n",
    "\n",
    "# Find the BusinessTypeID\n",
    "business_type_id = establishments.find_one(query, projection)\n",
    "\n",
    "if business_type_id:\n",
    "    # Update the new restaurant data with the found BusinessTypeID\n",
    "    new_restaurant_data['BusinessTypeID'] = business_type_id['BusinessTypeID']\n",
    "    \n",
    "    # Insert the updated data back into the collection\n",
    "    establishments.insert_one(new_restaurant_data)\n",
    "    print(\"New restaurant data updated with BusinessTypeID and inserted successfully.\")\n",
    "else:\n",
    "    print(\"Restaurant/Cafe/Canteen not found in the collection.\")\n",
    "\n"
   ]
  },
  {
   "cell_type": "code",
   "execution_count": 13,
   "id": "a6ad16f7",
   "metadata": {},
   "outputs": [
    {
     "name": "stdout",
     "output_type": "stream",
     "text": [
      "The updated restaurant was not found.\n"
     ]
    }
   ],
   "source": [
    "# Confirm that the new restaurant was updated\n",
    "# Query to find the new restaurant by its unique identifier (you should replace 'unique_identifier' with the actual unique identifier)\n",
    "query = {'unique_identifier': '65397fcdf802514ab9ac378d'}\n",
    "\n",
    "# Find the updated restaurant data\n",
    "updated_restaurant = establishments.find_one(query)\n",
    "\n",
    "if updated_restaurant:\n",
    "    print(\"Updated Restaurant Data:\")\n",
    "    pprint(updated_restaurant)\n",
    "else:\n",
    "    print(\"The updated restaurant was not found.\")\n"
   ]
  },
  {
   "cell_type": "markdown",
   "id": "67281254",
   "metadata": {},
   "source": [
    "4. The magazine is not interested in any establishments in Dover, so check how many documents contain the Dover Local Authority. Then, remove any establishments within the Dover Local Authority from the database, and check the number of documents to ensure they were deleted."
   ]
  },
  {
   "cell_type": "code",
   "execution_count": 14,
   "id": "768474a6",
   "metadata": {},
   "outputs": [
    {
     "name": "stdout",
     "output_type": "stream",
     "text": [
      "Number of documents with LocalAuthorityName as 'Dover': 0\n"
     ]
    }
   ],
   "source": [
    "# Find how many documents have LocalAuthorityName as \"Dover\"\n",
    "query = {'LocalAuthorityName': 'Dover'}\n",
    "\n",
    "# Use count_documents to count the matching documents\n",
    "count = establishments.count_documents(query)\n",
    "\n",
    "# Print the count\n",
    "print(f\"Number of documents with LocalAuthorityName as 'Dover': {count}\")"
   ]
  },
  {
   "cell_type": "code",
   "execution_count": 15,
   "id": "a11d5f1b",
   "metadata": {},
   "outputs": [
    {
     "name": "stdout",
     "output_type": "stream",
     "text": [
      "Number of documents deleted: 0\n"
     ]
    }
   ],
   "source": [
    "# Delete all documents where LocalAuthorityName is \"Dover\"\n",
    "# Define the query to find documents with LocalAuthorityName as \"Dover\"\n",
    "query = {'LocalAuthorityName': 'Dover'}\n",
    "\n",
    "# Use delete_many to remove all matching documents\n",
    "result = establishments.delete_many(query)\n",
    "\n",
    "# Print the number of documents deleted\n",
    "print(f\"Number of documents deleted: {result.deleted_count}\")\n"
   ]
  },
  {
   "cell_type": "code",
   "execution_count": 16,
   "id": "2a51aba0",
   "metadata": {},
   "outputs": [
    {
     "name": "stdout",
     "output_type": "stream",
     "text": [
      "No remaining documents with LocalAuthorityName as 'Dover'.\n"
     ]
    }
   ],
   "source": [
    "# Check if any remaining documents include Dover\n",
    "# Define the query to count documents with LocalAuthorityName as \"Dover\"\n",
    "query = {'LocalAuthorityName': 'Dover'}\n",
    "\n",
    "# Use count_documents to count the number of matching documents\n",
    "count = establishments.count_documents(query)\n",
    "\n",
    "# Check if there are any remaining documents with \"Dover\"\n",
    "if count > 0:\n",
    "    print(f\"There are {count} remaining documents with LocalAuthorityName as 'Dover'.\")\n",
    "else:\n",
    "    print(\"No remaining documents with LocalAuthorityName as 'Dover'.\")\n"
   ]
  },
  {
   "cell_type": "code",
   "execution_count": 17,
   "id": "8c356f7b",
   "metadata": {},
   "outputs": [
    {
     "name": "stdout",
     "output_type": "stream",
     "text": [
      "Found a remaining document:\n",
      "{'AddressLine1': '15 Morrins Close',\n",
      " 'AddressLine2': 'Great Wakering',\n",
      " 'AddressLine3': 'Southend-on-Sea',\n",
      " 'AddressLine4': 'Essex',\n",
      " 'BusinessName': 'Mrs M Boyce',\n",
      " 'BusinessType': 'Caring Premises',\n",
      " 'BusinessTypeID': 5,\n",
      " 'ChangesByServerID': 0,\n",
      " 'Distance': 4622.869572770969,\n",
      " 'FHRSID': 936339,\n",
      " 'LocalAuthorityBusinessID': '08/00157/COMM',\n",
      " 'LocalAuthorityCode': '118',\n",
      " 'LocalAuthorityEmailAddress': 'customerservices@rochford.gov.uk',\n",
      " 'LocalAuthorityName': 'Rochford',\n",
      " 'LocalAuthorityWebSite': 'http://www.rochford.gov.uk',\n",
      " 'NewRatingPending': False,\n",
      " 'Phone': '',\n",
      " 'PostCode': 'SS3 0DY',\n",
      " 'RatingDate': '1901-01-01T00:00:00',\n",
      " 'RatingKey': 'fhrs_exempt_en-gb',\n",
      " 'RatingValue': None,\n",
      " 'RightToReply': '',\n",
      " 'SchemeType': 'FHRS',\n",
      " '_id': ObjectId('65397fcef802514ab9ac61ed'),\n",
      " 'geocode': {'latitude': {'$toDouble': {'$ifNull': ['$geocode.latitude', 0]}},\n",
      "             'longitude': {'$toDouble': {'$ifNull': ['$geocode.longitude',\n",
      "                                                     0]}}},\n",
      " 'links': [{'href': 'https://api.ratings.food.gov.uk/establishments/936339',\n",
      "            'rel': 'self'}],\n",
      " 'meta': {'dataSource': None,\n",
      "          'extractDate': '0001-01-01T00:00:00',\n",
      "          'itemCount': 0,\n",
      "          'pageNumber': 0,\n",
      "          'pageSize': 0,\n",
      "          'returncode': None,\n",
      "          'totalCount': 0,\n",
      "          'totalPages': 0},\n",
      " 'scores': {'ConfidenceInManagement': None,\n",
      "            'Hygiene': None,\n",
      "            'Structural': None}}\n"
     ]
    }
   ],
   "source": [
    "# Check that other documents remain with 'find_one'\n",
    "# Define the query to find the first document with a specific condition\n",
    "query = {'LocalAuthorityName': 'Rochford'} \n",
    "\n",
    "# Find the first document that matches the query\n",
    "remaining_document = establishments.find_one(query)\n",
    "\n",
    "# Check if there's a remaining document\n",
    "if remaining_document:\n",
    "    print(\"Found a remaining document:\")\n",
    "    pprint(remaining_document)\n",
    "else:\n",
    "    print(\"No remaining documents with the specified condition.\")\n"
   ]
  },
  {
   "cell_type": "markdown",
   "id": "e9f1662d",
   "metadata": {},
   "source": [
    "5. Some of the number values are stored as strings, when they should be stored as numbers."
   ]
  },
  {
   "cell_type": "markdown",
   "id": "c46df2df",
   "metadata": {},
   "source": [
    "Use `update_many` to convert `latitude` and `longitude` to decimal numbers."
   ]
  },
  {
   "cell_type": "code",
   "execution_count": 18,
   "id": "fd4112ce",
   "metadata": {},
   "outputs": [
    {
     "name": "stdout",
     "output_type": "stream",
     "text": [
      "Matched 37288 documents and modified 2 documents\n"
     ]
    }
   ],
   "source": [
    "from decimal import Decimal\n",
    "from pymongo import MongoClient\n",
    "\n",
    "# Define the filter to match all documents\n",
    "filter = {}\n",
    "\n",
    "# Define the update operation using $set and $toDouble\n",
    "update = {\n",
    "    '$set': {\n",
    "        'geocode.latitude': {\n",
    "            '$toDouble': {\n",
    "                '$ifNull': ['$geocode.latitude', 0]  # Use 0 if latitude is missing\n",
    "            }\n",
    "        },\n",
    "        'geocode.longitude': {\n",
    "            '$toDouble': {\n",
    "                '$ifNull': ['$geocode.longitude', 0]  # Use 0 if longitude is missing\n",
    "            }\n",
    "        }\n",
    "    }\n",
    "}\n",
    "\n",
    "# Use update_many to apply the update operation to all documents\n",
    "result = establishments.update_many(filter, update)\n",
    "\n",
    "print(f\"Matched {result.matched_count} documents and modified {result.modified_count} documents\")\n",
    "\n",
    "\n"
   ]
  },
  {
   "cell_type": "markdown",
   "id": "142e319c",
   "metadata": {},
   "source": [
    "Use `update_many` to convert `RatingValue` to integer numbers."
   ]
  },
  {
   "cell_type": "code",
   "execution_count": 19,
   "id": "04430a5b",
   "metadata": {},
   "outputs": [
    {
     "data": {
      "text/plain": [
       "<pymongo.results.UpdateResult at 0x1ed05177f80>"
      ]
     },
     "execution_count": 19,
     "metadata": {},
     "output_type": "execute_result"
    }
   ],
   "source": [
    "# Set non 1-5 Rating Values to Null\n",
    "non_ratings = [\"AwaitingInspection\", \"Awaiting Inspection\", \"AwaitingPublication\", \"Pass\", \"Exempt\"]\n",
    "establishments.update_many({\"RatingValue\": {\"$in\": non_ratings}}, [ {'$set':{ \"RatingValue\" : None}} ])"
   ]
  },
  {
   "cell_type": "code",
   "execution_count": 21,
   "id": "92524ccc",
   "metadata": {},
   "outputs": [
    {
     "data": {
      "text/plain": [
       "<pymongo.results.UpdateResult at 0x1ed04428f80>"
      ]
     },
     "execution_count": 21,
     "metadata": {},
     "output_type": "execute_result"
    }
   ],
   "source": [
    "# Change the data type from String to Integer for RatingValue\n",
    "\n",
    "establishments.update_many(\n",
    "    {\"RatingValue\": {\"$type\": \"string\"}},  # Filter documents with a string RatingValue\n",
    "    [{\"$set\": {\"RatingValue\": {\"$toInt\": \"$RatingValue\"}}}]  # Convert RatingValue to integer\n",
    ")\n"
   ]
  },
  {
   "cell_type": "code",
   "execution_count": 23,
   "id": "0deacaf9",
   "metadata": {},
   "outputs": [
    {
     "name": "stdout",
     "output_type": "stream",
     "text": [
      "Document ID: 65397fcdf802514ab9ac3a71\n",
      "Latitude Type: <class 'dict'>\n",
      "Longitude Type: <class 'dict'>\n",
      "RatingValue Type: <class 'int'>\n",
      "\n",
      "Document ID: 65397fcdf802514ab9ac3a72\n",
      "Latitude Type: <class 'dict'>\n",
      "Longitude Type: <class 'dict'>\n",
      "RatingValue Type: <class 'int'>\n",
      "\n",
      "Document ID: 65397fcdf802514ab9ac3a73\n",
      "Latitude Type: <class 'dict'>\n",
      "Longitude Type: <class 'dict'>\n",
      "RatingValue Type: <class 'int'>\n",
      "\n",
      "Document ID: 65397fcdf802514ab9ac3a78\n",
      "Latitude Type: <class 'dict'>\n",
      "Longitude Type: <class 'dict'>\n",
      "RatingValue Type: <class 'int'>\n",
      "\n",
      "Document ID: 65397fcdf802514ab9ac3a79\n",
      "Latitude Type: <class 'dict'>\n",
      "Longitude Type: <class 'dict'>\n",
      "RatingValue Type: <class 'int'>\n",
      "\n"
     ]
    }
   ],
   "source": [
    "# Check that the coordinates and rating value are now numbers\n",
    "# Check that the coordinates and rating value are now numbers\n",
    "sample_documents = establishments.find().limit(5)  # Adjust the limit as needed to see a few documents\n",
    "\n",
    "for doc in sample_documents:\n",
    "    print(\"Document ID:\", doc['_id'])\n",
    "    print(\"Latitude Type:\", type(doc['geocode']['latitude']))\n",
    "    print(\"Longitude Type:\", type(doc['geocode']['longitude']))\n",
    "    print(\"RatingValue Type:\", type(doc['RatingValue']))\n",
    "    print()\n"
   ]
  },
  {
   "cell_type": "code",
   "execution_count": null,
   "id": "f794646f",
   "metadata": {},
   "outputs": [],
   "source": []
  }
 ],
 "metadata": {
  "kernelspec": {
   "display_name": "Python 3 (ipykernel)",
   "language": "python",
   "name": "python3"
  },
  "language_info": {
   "codemirror_mode": {
    "name": "ipython",
    "version": 3
   },
   "file_extension": ".py",
   "mimetype": "text/x-python",
   "name": "python",
   "nbconvert_exporter": "python",
   "pygments_lexer": "ipython3",
   "version": "3.11.4"
  }
 },
 "nbformat": 4,
 "nbformat_minor": 5
}
